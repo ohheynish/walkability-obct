{
 "cells": [
  {
   "cell_type": "markdown",
   "id": "e8bbd68f-807c-469e-b231-437a788f3136",
   "metadata": {},
   "source": [
    "This notebook contains code on collecting slope from NASA DEM for the generated grids and then calculating the slope value for each 100m x 100m grid. The developed code relies on google earth engine for processing and google cloud for intermediate storage of data."
   ]
  },
  {
   "cell_type": "code",
   "execution_count": null,
   "id": "cce0cc15-83ba-4c3f-84ff-722e049ad97e",
   "metadata": {},
   "outputs": [],
   "source": [
    "import ee\n",
    "import geopandas as gpd\n",
    "import rasterio\n",
    "from rasterio.windows import from_bounds\n",
    "import os\n",
    "import numpy as np\n",
    "import logging\n",
    "from multiprocess import Pool\n",
    "import glob\n",
    "from functools import partial"
   ]
  },
  {
   "cell_type": "markdown",
   "id": "403e361d-6dff-4b59-b161-d83c9d2cbbcb",
   "metadata": {},
   "source": [
    "### data collection"
   ]
  },
  {
   "cell_type": "code",
   "execution_count": null,
   "id": "a4359a06-3d26-44ea-924e-b48399327d2a",
   "metadata": {},
   "outputs": [],
   "source": [
    "# set relative path for grid files\n",
    "grid_path = 'data/*.parquet'\n",
    "\n",
    "# create a list of all parquet grid files from the specified directory\n",
    "grids_list = [parquet for parquet in glob.glob(grid_path)]\n",
    "\n",
    "# authenticate and Initialize Google Earth Engine\n",
    "ee.Authenticate()\n",
    "ee.Initialize()"
   ]
  },
  {
   "cell_type": "code",
   "execution_count": null,
   "id": "6b4c8228-c05c-4208-bd28-29f28c5f8645",
   "metadata": {},
   "outputs": [],
   "source": [
    "# access NASA DEM data and create slope\n",
    "dataset = ee.Image('NASA/NASADEM_HGT/001')\n",
    "elevation = dataset.select('elevation')\n",
    "slope = ee.Terrain.slope(elevation)"
   ]
  },
  {
   "cell_type": "code",
   "execution_count": null,
   "id": "30305ced-fb2d-4753-b843-180fbee92e64",
   "metadata": {},
   "outputs": [],
   "source": [
    "# Function to define and start export tasks\n",
    "def export_slope(grid_path):\n",
    "    \"\"\"\n",
    "    Export slope images for each grid using Google Earth Engine.\n",
    "    \n",
    "    Args:\n",
    "    - grid_path (str): Path to the grid file.\n",
    "    \"\"\"\n",
    "    grid_number = grid_path.split('_')[-1].split('.')[0]\n",
    "    img_name = f'slope_30m_{grid_number}.tif'\n",
    "\n",
    "    grid_data = gpd.read_parquet(grid_path)\n",
    "    extent = grid_data.to_crs('epsg:4326').total_bounds\n",
    "\n",
    "    ee_bounds = ee.Geometry.Polygon([\n",
    "        [[extent[0], extent[1]],\n",
    "         [extent[0], extent[3]],\n",
    "         [extent[2], extent[3]],\n",
    "         [extent[2], extent[1]]]\n",
    "    ])\n",
    "\n",
    "    export_params = {\n",
    "        'image': slope,\n",
    "        'bucket': 'cog-bucket-test',    # your bucket name\n",
    "        'description': f'slope_30m_{grid_number}',\n",
    "        'fileNamePrefix': f'eu_slope/slope_30m_{grid_number}',\n",
    "        'scale': 30,\n",
    "        'region': ee_bounds.getInfo()['coordinates'],\n",
    "        'crs': 'EPSG:3035',\n",
    "        'fileFormat': 'GeoTIFF',\n",
    "        'formatOptions': {'cloudOptimized': True},\n",
    "        'maxPixels': 1e12,\n",
    "    }\n",
    "\n",
    "    task = ee.batch.Export.image.toCloudStorage(**export_params)\n",
    "    task.start()"
   ]
  },
  {
   "cell_type": "code",
   "execution_count": null,
   "id": "eadbd0fc-565c-4769-8b87-8ae691f0dc0d",
   "metadata": {},
   "outputs": [],
   "source": [
    "# sequential\n",
    "for elem in grids_list:\n",
    "    export_slope(elem)"
   ]
  },
  {
   "cell_type": "markdown",
   "id": "54269c5b-7f13-41e4-a4c0-c1fbada099f9",
   "metadata": {},
   "source": [
    "### calculate slope for 100m x 100m grids"
   ]
  },
  {
   "cell_type": "code",
   "execution_count": null,
   "id": "122bfa8b-efd3-4054-bb04-a31dba2e7caf",
   "metadata": {},
   "outputs": [],
   "source": [
    "# set the environment variable for Google Cloud credentials\n",
    "os.environ['GOOGLE_APPLICATION_CREDENTIALS'] = 'path/to/your/credentials.json'\n",
    "\n",
    "# list to hold the paths of the parquet files\n",
    "grids_list = []\n",
    "for parquet_file in glob.glob('data/*.parquet'):\n",
    "    grids_list.append(parquet_file)\n",
    "\n",
    "# # configure logging (recommended if you monitor processing over a lot of files)\n",
    "# log_path = 'logs/slope.log'\n",
    "\n",
    "# # ensure log directory exists\n",
    "# log_dir = os.path.dirname(log_path)\n",
    "# if not os.path.exists(log_dir):\n",
    "#     os.makedirs(log_dir)\n",
    "    \n",
    "# logging.basicConfig(filename=log_path, level=logging.INFO,\n",
    "#                     format='%(asctime)s:%(levelname)s:%(message)s', force=True)"
   ]
  },
  {
   "cell_type": "code",
   "execution_count": null,
   "id": "cc1550b3-b040-41d8-a7cd-b80e04ddd78d",
   "metadata": {},
   "outputs": [],
   "source": [
    "def calculate_slope(row, src):\n",
    "    \"\"\"\n",
    "    Calculate the mean slope from a raster for a given polygon in a GeoDataFrame.\n",
    "    \n",
    "    Args:\n",
    "    - row (GeoSeries): A GeoDataFrame row representing a polygon.\n",
    "    - src (rasterio.io.DatasetReader): Open raster source to read data from.\n",
    "    \n",
    "    Returns:\n",
    "    - float: Mean slope within the polygon.\n",
    "    \"\"\"\n",
    "    left, bottom, right, top = row.geometry.bounds\n",
    "    window = from_bounds(left, bottom, right, top, src.transform)\n",
    "    data = src.read(window=window)\n",
    "    mean_slope = np.nanmean(data[0])\n",
    "    return mean_slope\n",
    "\n",
    "def process_grid(grid_path):\n",
    "    \"\"\"\n",
    "    Process a single grid file to calculate and update slope data.\n",
    "    \n",
    "    Args:\n",
    "    - grid_path (str): Path to the grid file.\n",
    "    \"\"\"\n",
    "    try:\n",
    "        grid_number = grid_path.split('_')[-1].split('.')[0]\n",
    "        grid_gdf = gpd.read_parquet(grid_path)\n",
    "\n",
    "        if 'slope' in grid_gdf.columns:\n",
    "            logging.info(f'Skipping grid {grid_number} as slope already calculated')\n",
    "            return\n",
    "\n",
    "        cog_path = f'gs://cog-bucket-test/eu_slope/slope_30m_{grid_number}.tif'\n",
    "        logging.info(f'Started processing grid {grid_number} at {cog_path}')\n",
    "\n",
    "        with rasterio.open(cog_path) as src:\n",
    "            if grid_gdf.crs != src.crs:\n",
    "                grid_gdf = grid_gdf.to_crs(src.crs)\n",
    "            calculate_with_src = partial(calculate_slope, src=src)\n",
    "            grid_gdf['slope'] = grid_gdf.apply(lambda row: calculate_with_src(row), axis=1)\n",
    "\n",
    "        grid_gdf.to_parquet(grid_path)\n",
    "        logging.info(f'Successfully processed grid {grid_path}')\n",
    "    except Exception as e:\n",
    "        logging.error(f'Error processing grid {grid_path}: {e}')"
   ]
  },
  {
   "cell_type": "code",
   "execution_count": null,
   "id": "3b086779-9c30-41fa-8d1a-8df8ea71cb0e",
   "metadata": {},
   "outputs": [],
   "source": [
    "# sequential\n",
    "for elem in grids_list:\n",
    "    process_grid(elem)\n",
    "\n",
    "# # parallel processing setup\n",
    "# num_processes = 5\n",
    "# with Pool(processes=num_processes) as pool:\n",
    "#     pool.map(process_grid, grids_list)"
   ]
  }
 ],
 "metadata": {
  "kernelspec": {
   "display_name": "Python 3 (ipykernel)",
   "language": "python",
   "name": "python3"
  },
  "language_info": {
   "codemirror_mode": {
    "name": "ipython",
    "version": 3
   },
   "file_extension": ".py",
   "mimetype": "text/x-python",
   "name": "python",
   "nbconvert_exporter": "python",
   "pygments_lexer": "ipython3",
   "version": "3.10.17"
  }
 },
 "nbformat": 4,
 "nbformat_minor": 5
}
