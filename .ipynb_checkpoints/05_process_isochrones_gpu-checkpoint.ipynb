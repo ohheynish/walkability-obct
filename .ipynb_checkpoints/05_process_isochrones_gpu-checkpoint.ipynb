{
 "cells": [
  {
   "cell_type": "code",
   "execution_count": null,
   "id": "f7b8a9db-1727-4897-9db2-d69174f112ba",
   "metadata": {},
   "outputs": [],
   "source": [
    "import subprocess\n",
    "import sys\n",
    "import os"
   ]
  },
  {
   "cell_type": "code",
   "execution_count": null,
   "id": "7520439a-35db-4708-9525-a63bdf052a71",
   "metadata": {},
   "outputs": [],
   "source": [
    "def run_process(grid_num):\n",
    "    script = 'process_isochrones_gpu.py'\n",
    "    subprocess.run([sys.executable, script, str(grid_num)], check=True)"
   ]
  },
  {
   "cell_type": "code",
   "execution_count": null,
   "id": "6803cdf4-de38-41e7-b96e-30e37c91edcc",
   "metadata": {},
   "outputs": [],
   "source": [
    "# set path for grid files\n",
    "# you might have grids generated here from the 'generate_grids.ipynb'\n",
    "grid_path = 'data/*.parquet'\n",
    "\n",
    "# create a list of all parquet grid files from the specified directory\n",
    "grids_list = [parquet for parquet in glob.glob(grid_path)]\n",
    "print(grids_list)"
   ]
  },
  {
   "cell_type": "code",
   "execution_count": null,
   "id": "3a2af854-621e-42d2-b8f8-0b28384019bd",
   "metadata": {},
   "outputs": [],
   "source": [
    "for elem in grids_list:\n",
    "    grid_gdf = gpd.read_parquet(elem)\n",
    "    grid_num = grid_gdf['grid_100000_id'].unique()[0]\n",
    "    run_process(grid_num)"
   ]
  }
 ],
 "metadata": {
  "kernelspec": {
   "display_name": "Python 3 (ipykernel)",
   "language": "python",
   "name": "python3"
  },
  "language_info": {
   "codemirror_mode": {
    "name": "ipython",
    "version": 3
   },
   "file_extension": ".py",
   "mimetype": "text/x-python",
   "name": "python",
   "nbconvert_exporter": "python",
   "pygments_lexer": "ipython3",
   "version": "3.10.17"
  }
 },
 "nbformat": 4,
 "nbformat_minor": 5
}
